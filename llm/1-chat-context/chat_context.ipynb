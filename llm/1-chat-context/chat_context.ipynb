{
 "cells": [
  {
   "cell_type": "markdown",
   "metadata": {},
   "source": [
    "# LLM 多轮对话上下文管理"
   ]
  },
  {
   "cell_type": "code",
   "execution_count": null,
   "metadata": {},
   "outputs": [],
   "source": [
    "%pip install -q dashscope"
   ]
  },
  {
   "cell_type": "markdown",
   "metadata": {},
   "source": [
    "## 无上下文管理\n",
    "### 第一次对话"
   ]
  },
  {
   "cell_type": "code",
   "execution_count": 2,
   "metadata": {},
   "outputs": [
    {
     "name": "stdout",
     "output_type": "stream",
     "text": [
      "我的第一次提问: 我的名字是坤，练习时长两年半，喜欢唱跳rap篮球，代表作ji你太美。\n",
      "模型第一次回答: 你好，坤！很高兴认识你。看起来你是一位多才多艺的艺人，擅长唱歌、跳舞、说唱和篮球。你的代表作《鸡你太美》也广受欢迎。希望你在未来的道路上继续努力，不断提升自己的才华，为粉丝们带来更多优秀的作品！如果你有任何问题或需要帮助，欢迎随时提问。\n"
     ]
    }
   ],
   "source": [
    "import os\n",
    "import dashscope\n",
    "\n",
    "question = '我的名字是坤，练习时长两年半，喜欢唱跳rap篮球，代表作ji你太美。'\n",
    "messages = [\n",
    "    {'role': 'user', 'content': question}\n",
    "    ]\n",
    "response = dashscope.Generation.call(\n",
    "    # 请求模型需要的api-key信息，需到官网申请，然后添加到环境变量 DASHSCOPE_API_KEY 中\n",
    "    api_key=os.getenv('DASHSCOPE_API_KEY'),\n",
    "    model=\"qwen-plus\",\n",
    "    messages=messages,\n",
    "    result_format='message'\n",
    "    )\n",
    "\n",
    "print(f\"我的第一次提问: {question}\")\n",
    "print(f\"模型第一次回答: {response.output.choices[0].message.content}\")"
   ]
  },
  {
   "cell_type": "markdown",
   "metadata": {},
   "source": [
    "### 第二次对话"
   ]
  },
  {
   "cell_type": "code",
   "execution_count": 3,
   "metadata": {},
   "outputs": [
    {
     "name": "stdout",
     "output_type": "stream",
     "text": [
      "我的第二次提问: 我的名字是什么？\n",
      "模型第二次回答: 您好，您没有告诉我您的名字呢。\n"
     ]
    }
   ],
   "source": [
    "import os\n",
    "import dashscope\n",
    "\n",
    "question = '我的名字是什么？'\n",
    "messages = [\n",
    "    {'role': 'user', 'content': question}\n",
    "    ]\n",
    "response = dashscope.Generation.call(\n",
    "    # 请求模型需要的api-key信息，需到官网申请，然后添加到环境变量 DASHSCOPE_API_KEY 中\n",
    "    api_key=os.getenv('DASHSCOPE_API_KEY'),\n",
    "    model=\"qwen-plus\",\n",
    "    messages=messages,\n",
    "    result_format='message'\n",
    "    )\n",
    "\n",
    "print(f\"我的第二次提问: {question}\")\n",
    "print(f\"模型第二次回答: {response.output.choices[0].message.content}\")"
   ]
  },
  {
   "cell_type": "markdown",
   "metadata": {},
   "source": [
    "## 引入上下文管理\n",
    "### 第一次对话"
   ]
  },
  {
   "cell_type": "code",
   "execution_count": 4,
   "metadata": {},
   "outputs": [
    {
     "name": "stdout",
     "output_type": "stream",
     "text": [
      "我的第一次提问: \n",
      "我的名字是坤，练习时长两年半，喜欢唱跳rap篮球，代表作ji你太美。\n",
      "---\n",
      "第一次对话传递给模型的完整信息：\n",
      "[{'role': 'user', 'content': '我的名字是坤，练习时长两年半，喜欢唱跳rap篮球，代表作ji你太美。'}]\n",
      "---\n",
      "模型第一次回答: \n",
      "你好，坤！很高兴认识你。看起来你是一位多才多艺的艺人，擅长唱歌、跳舞、说唱和篮球。你的代表作《鸡你太美》也受到了很多人的喜爱。希望你在追求梦想的道路上继续努力，不断进步！如果你有任何问题或需要帮助，请随时告诉我。\n",
      "---\n",
      "模型第一次回答后历史对话数组: \n",
      "[{'role': 'user', 'content': '我的名字是坤，练习时长两年半，喜欢唱跳rap篮球，代表作ji你太美。'}, {'role': 'assistant', 'content': '你好，坤！很高兴认识你。看起来你是一位多才多艺的艺人，擅长唱歌、跳舞、说唱和篮球。你的代表作《鸡你太美》也受到了很多人的喜爱。希望你在追求梦想的道路上继续努力，不断进步！如果你有任何问题或需要帮助，请随时告诉我。'}]\n"
     ]
    }
   ],
   "source": [
    "# 上下文管理\n",
    "\n",
    "import os\n",
    "import dashscope\n",
    "# 定义历史对话数组\n",
    "history_message=[]\n",
    "\n",
    "question = '我的名字是坤，练习时长两年半，喜欢唱跳rap篮球，代表作ji你太美。'\n",
    "# 这里传入的问题是一个字典，是tongyi规定的api格式，可以暂时不管。\n",
    "first_question = {'role': 'user', 'content': question}\n",
    "\n",
    "# 将新的提问添加到历史对话数组，喂给模型\n",
    "history_message.append(first_question)\n",
    "\n",
    "response = dashscope.Generation.call(\n",
    "    # 请求模型需要的api-key信息，需到官网申请，然后添加到环境变量 DASHSCOPE_API_KEY 中\n",
    "    api_key=os.getenv('DASHSCOPE_API_KEY'),\n",
    "    model=\"qwen-plus\",\n",
    "    messages=history_message,\n",
    "    result_format='message'\n",
    "    )\n",
    "\n",
    "send_to_model_messages = history_message.copy()\n",
    "# role是模型默认的角色，可以暂时不管\n",
    "first_answer = {'role': 'assistant', 'content': response.output.choices[0].message.content}\n",
    "# 将模型回答，按tongyi格式规定后，添加到历史对话数组\n",
    "history_message.append(first_answer)\n",
    "\n",
    "\n",
    "\n",
    "\n",
    "print(f\"我的第一次提问: \\n{question}\")\n",
    "print(\"---\")\n",
    "print(f\"第一次对话传递给模型的完整信息：\\n{send_to_model_messages}\")\n",
    "print(\"---\")\n",
    "print(f\"模型第一次回答: \\n{response.output.choices[0].message.content}\")\n",
    "print(\"---\")\n",
    "print(f\"模型第一次回答后历史对话数组: \\n{history_message}\")\n",
    "\n"
   ]
  },
  {
   "cell_type": "markdown",
   "metadata": {},
   "source": [
    "### 第二次对话"
   ]
  },
  {
   "cell_type": "code",
   "execution_count": 5,
   "metadata": {},
   "outputs": [
    {
     "name": "stdout",
     "output_type": "stream",
     "text": [
      "我的第二次提问: \n",
      "我的名字是什么？\n",
      "---\n",
      "第二次对话传递给模型的完整信息：\n",
      "[{'role': 'user', 'content': '我的名字是坤，练习时长两年半，喜欢唱跳rap篮球，代表作ji你太美。'}, {'role': 'assistant', 'content': '你好，坤！很高兴认识你。看起来你是一位多才多艺的艺人，擅长唱歌、跳舞、说唱和篮球。你的代表作《鸡你太美》也受到了很多人的喜爱。希望你在追求梦想的道路上继续努力，不断进步！如果你有任何问题或需要帮助，请随时告诉我。'}, {'role': 'user', 'content': '我的名字是什么？'}]\n",
      "---\n",
      "模型第二次回答: \n",
      "你的名字是坤。很高兴认识你，坤！如果你有任何问题或需要帮助，随时告诉我哦。😊\n",
      "---\n",
      "模型第二次回答后历史对话数组: \n",
      "[{'role': 'user', 'content': '我的名字是坤，练习时长两年半，喜欢唱跳rap篮球，代表作ji你太美。'}, {'role': 'assistant', 'content': '你好，坤！很高兴认识你。看起来你是一位多才多艺的艺人，擅长唱歌、跳舞、说唱和篮球。你的代表作《鸡你太美》也受到了很多人的喜爱。希望你在追求梦想的道路上继续努力，不断进步！如果你有任何问题或需要帮助，请随时告诉我。'}, {'role': 'user', 'content': '我的名字是什么？'}, {'role': 'assistant', 'content': '你的名字是坤。很高兴认识你，坤！如果你有任何问题或需要帮助，随时告诉我哦。😊'}]\n"
     ]
    }
   ],
   "source": [
    "# 第二次提问\n",
    "import os\n",
    "import dashscope\n",
    "\n",
    "question = '我的名字是什么？'\n",
    "second_question = {'role': 'user', 'content': question}\n",
    "# 将第二次提问添加到数组尾部\n",
    "history_message.append(second_question)\n",
    "response = dashscope.Generation.call(\n",
    "    # 请求模型需要的api-key信息，需到官网申请，然后添加到环境变量 DASHSCOPE_API_KEY 中\n",
    "    api_key=os.getenv('DASHSCOPE_API_KEY'),\n",
    "    model=\"qwen-plus\",\n",
    "    # 一股脑传入数组\n",
    "    messages=history_message,\n",
    "    result_format='message'\n",
    "    )\n",
    "\n",
    "send_to_model_messages = history_message.copy()\n",
    "\n",
    "# role是模型默认的角色，可以暂时不管\n",
    "second_answer = {'role': 'assistant', 'content': response.output.choices[0].message.content}\n",
    "# 将模型回答，按tongyi格式规定后，添加到历史对话数组\n",
    "history_message.append(second_answer)\n",
    "\n",
    "print(f\"我的第二次提问: \\n{question}\")\n",
    "print(\"---\")\n",
    "print(f\"第二次对话传递给模型的完整信息：\\n{send_to_model_messages}\")\n",
    "print(\"---\")\n",
    "print(f\"模型第二次回答: \\n{response.output.choices[0].message.content}\")\n",
    "print(\"---\")\n",
    "print(f\"模型第二次回答后历史对话数组: \\n{history_message}\")"
   ]
  }
 ],
 "metadata": {
  "kernelspec": {
   "display_name": "py39",
   "language": "python",
   "name": "python3"
  },
  "language_info": {
   "codemirror_mode": {
    "name": "ipython",
    "version": 3
   },
   "file_extension": ".py",
   "mimetype": "text/x-python",
   "name": "python",
   "nbconvert_exporter": "python",
   "pygments_lexer": "ipython3",
   "version": "3.9.19"
  }
 },
 "nbformat": 4,
 "nbformat_minor": 2
}
